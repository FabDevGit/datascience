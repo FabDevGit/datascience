{
 "cells": [
  {
   "cell_type": "markdown",
   "metadata": {
    "slideshow": {
     "slide_type": "slide"
    }
   },
   "source": [
    "# Beyond Excel"
   ]
  },
  {
   "cell_type": "markdown",
   "metadata": {
    "slideshow": {
     "slide_type": "slide"
    }
   },
   "source": [
    "# Excel is good for :\n",
    "- Non programmers\n",
    "- Ready-to-use data\n",
    "- Quick and visual analysis\n",
    "- 1 user applications"
   ]
  },
  {
   "cell_type": "markdown",
   "metadata": {
    "slideshow": {
     "slide_type": "slide"
    }
   },
   "source": [
    "# Python is good for :\n",
    "- everything else"
   ]
  },
  {
   "cell_type": "markdown",
   "metadata": {
    "collapsed": true,
    "slideshow": {
     "slide_type": "slide"
    }
   },
   "source": [
    "# But, what is Python ?"
   ]
  },
  {
   "cell_type": "markdown",
   "metadata": {
    "slideshow": {
     "slide_type": "subslide"
    }
   },
   "source": [
    "## Python is a programming language\n"
   ]
  },
  {
   "cell_type": "markdown",
   "metadata": {
    "collapsed": true,
    "slideshow": {
     "slide_type": "subslide"
    }
   },
   "source": [
    "## Used by a lot of people\n",
    "Google, Nasa, Youtube, Dropbox, Reddit, Instagram, MIT ... [list of most Popular Languages (TIOBE Index for May 2017)](https://insights.stackoverflow.com/trends?tags=java%2Cc%2Cc%2B%2B%2Cpython%2Cc%23%2Cvb.net%2Cassembly%2Cphp%2Cperl%2Cruby%2Cswift%2Cr%2Cobjective-c%2Cjavascript)"
   ]
  },
  {
   "cell_type": "markdown",
   "metadata": {
    "slideshow": {
     "slide_type": "subslide"
    }
   },
   "source": [
    "## Free and opensource\n",
    "Everyone can use it, for any purpose. Platforms, websites, cryptography, machine learning, games, softwares, calculation...\n"
   ]
  },
  {
   "cell_type": "markdown",
   "metadata": {
    "slideshow": {
     "slide_type": "subslide"
    }
   },
   "source": [
    "## Easy to learn\n",
    "It looks like english pseudo-code"
   ]
  },
  {
   "cell_type": "markdown",
   "metadata": {},
   "source": [
    "# About this notebook\n",
    "This notebook is a useful way to run code during a presentation but there are multiple other ways to write and run some Python code.   \n",
    "For example you can open up a shell command and type \"python\".  \n",
    "Or write your code inside a ``.py`` file with a text editor and launch the script from the same shell.  \n"
   ]
  },
  {
   "cell_type": "markdown",
   "metadata": {
    "slideshow": {
     "slide_type": "slide"
    }
   },
   "source": [
    "# A taste of Python data structures\n",
    "Python uses many different objects to store data.   \n",
    "They all have their specifications and their custom methods.  \n",
    "We are going to focus on the two main ones (lists and dicts) which are representative of the \"Python spirit\". "
   ]
  },
  {
   "cell_type": "markdown",
   "metadata": {
    "slideshow": {
     "slide_type": "slide"
    }
   },
   "source": [
    "## Lists\n",
    "Lists are ordered sequence of values.   \n",
    "You can create, update, concatenate, loop, search, index, add, slice, delete, analyse ..."
   ]
  },
  {
   "cell_type": "code",
   "execution_count": 103,
   "metadata": {
    "collapsed": true,
    "slideshow": {
     "slide_type": "subslide"
    }
   },
   "outputs": [],
   "source": [
    "# Here we create a list called zoo with 6 elements\n",
    "zoo = ['cat', 'bat', 'rat', 'elephant','ants','dogs']"
   ]
  },
  {
   "cell_type": "code",
   "execution_count": 104,
   "metadata": {
    "slideshow": {
     "slide_type": "fragment"
    }
   },
   "outputs": [
    {
     "data": {
      "text/plain": [
       "'ants'"
      ]
     },
     "execution_count": 104,
     "metadata": {},
     "output_type": "execute_result"
    }
   ],
   "source": [
    "# we can get any element of the list by calling its position\n",
    "zoo[4]"
   ]
  },
  {
   "cell_type": "code",
   "execution_count": 105,
   "metadata": {
    "slideshow": {
     "slide_type": "fragment"
    }
   },
   "outputs": [
    {
     "data": {
      "text/plain": [
       "True"
      ]
     },
     "execution_count": 105,
     "metadata": {},
     "output_type": "execute_result"
    }
   ],
   "source": [
    "# We can check if an element is in the list with the keyword \"in\"\n",
    "'cat' in zoo"
   ]
  },
  {
   "cell_type": "code",
   "execution_count": 106,
   "metadata": {
    "slideshow": {
     "slide_type": "fragment"
    }
   },
   "outputs": [
    {
     "name": "stdout",
     "output_type": "stream",
     "text": [
      "cat\n",
      "bat\n",
      "rat\n",
      "elephant\n",
      "ants\n",
      "dogs\n"
     ]
    }
   ],
   "source": [
    "# We can loop on our list with the keyword \"for....in\". The name \"animal\" is arbitrary. \n",
    "for animal in zoo:\n",
    "    print(animal)"
   ]
  },
  {
   "cell_type": "code",
   "execution_count": 95,
   "metadata": {
    "collapsed": true,
    "slideshow": {
     "slide_type": "subslide"
    }
   },
   "outputs": [],
   "source": [
    "# \"append\" is one of the many methods we can use on our list. It adds an element at the end of the list\n",
    "zoo.append(\"lion\")\n",
    "# Try to search on google \"remove an element from a python list\"\n",
    "zoo.remove(\"bat\")"
   ]
  },
  {
   "cell_type": "code",
   "execution_count": 96,
   "metadata": {
    "slideshow": {
     "slide_type": "fragment"
    }
   },
   "outputs": [
    {
     "data": {
      "text/plain": [
       "6"
      ]
     },
     "execution_count": 96,
     "metadata": {},
     "output_type": "execute_result"
    }
   ],
   "source": [
    "# We can check the length of our list\n",
    "len(zoo)"
   ]
  },
  {
   "cell_type": "code",
   "execution_count": 97,
   "metadata": {
    "slideshow": {
     "slide_type": "fragment"
    }
   },
   "outputs": [
    {
     "data": {
      "text/plain": [
       "5"
      ]
     },
     "execution_count": 97,
     "metadata": {},
     "output_type": "execute_result"
    }
   ],
   "source": [
    "# Find the position of a specific element\n",
    "zoo.index('lion')"
   ]
  },
  {
   "cell_type": "code",
   "execution_count": 101,
   "metadata": {
    "slideshow": {
     "slide_type": "subslide"
    }
   },
   "outputs": [
    {
     "name": "stdout",
     "output_type": "stream",
     "text": [
      "['ants', 'cat', 'dogs', 'elephant', 'lion', 'rat']\n",
      "['cat', 'rat', 'ants', 'dogs', 'lion', 'elephant']\n"
     ]
    }
   ],
   "source": [
    "# Sort all the elements alphabetically\n",
    "zoo.sort()\n",
    "print(zoo)\n",
    "# Or by length\n",
    "zoo.sort(key=len)\n",
    "print(zoo)"
   ]
  },
  {
   "cell_type": "markdown",
   "metadata": {
    "slideshow": {
     "slide_type": "slide"
    }
   },
   "source": [
    "## Dicts\n",
    "Like a list, a dictionary is a collection of many values.  \n",
    "But unlike indexes for lists which are integers (zoo[4]), indexes for dicts can be strings or any other type. \n",
    "Indexes for dictionaries are called keys.  \n",
    "Also dicts are unordered. "
   ]
  },
  {
   "cell_type": "code",
   "execution_count": 107,
   "metadata": {
    "collapsed": true,
    "slideshow": {
     "slide_type": "subslide"
    }
   },
   "outputs": [],
   "source": [
    "# Creation of a dictionnary called \"earth\"\n",
    "earth = {\"sky\":\"blue\",\"sun\":\"yellow\",\"tree\":\"green\"}"
   ]
  },
  {
   "cell_type": "code",
   "execution_count": 109,
   "metadata": {},
   "outputs": [
    {
     "data": {
      "text/plain": [
       "'blue'"
      ]
     },
     "execution_count": 109,
     "metadata": {},
     "output_type": "execute_result"
    }
   ],
   "source": [
    "# Get an element of the dictionnary. It is the same idea as zoo[4], but with a name instead of a number\n",
    "earth[\"sky\"]"
   ]
  },
  {
   "cell_type": "code",
   "execution_count": 64,
   "metadata": {
    "slideshow": {
     "slide_type": "fragment"
    }
   },
   "outputs": [
    {
     "data": {
      "text/plain": [
       "True"
      ]
     },
     "execution_count": 64,
     "metadata": {},
     "output_type": "execute_result"
    }
   ],
   "source": [
    "# Check if a key is in a dictionnary. \n",
    "'sky' in earth"
   ]
  },
  {
   "cell_type": "code",
   "execution_count": 70,
   "metadata": {
    "slideshow": {
     "slide_type": "subslide"
    }
   },
   "outputs": [
    {
     "name": "stdout",
     "output_type": "stream",
     "text": [
      "{'sky': 'blue', 'tree': 'green', 'sun': 'yellow'}\n",
      "sky is blue\n",
      "tree is green\n",
      "sun is yellow\n"
     ]
    }
   ],
   "source": [
    "# Loop on a dictionnary\n",
    "print(earth)\n",
    "for key in earth:\n",
    "    print(key, \"is\", earth[key])"
   ]
  },
  {
   "cell_type": "code",
   "execution_count": 71,
   "metadata": {
    "slideshow": {
     "slide_type": "fragment"
    }
   },
   "outputs": [
    {
     "data": {
      "text/plain": [
       "3"
      ]
     },
     "execution_count": 71,
     "metadata": {},
     "output_type": "execute_result"
    }
   ],
   "source": [
    "# Check the length of a dictionnary. Many methods work the same on different types. \n",
    "len(earth)"
   ]
  },
  {
   "cell_type": "code",
   "execution_count": 111,
   "metadata": {
    "slideshow": {
     "slide_type": "fragment"
    }
   },
   "outputs": [
    {
     "data": {
      "text/plain": [
       "{'sky': 'blue', 'snow': 'white', 'sun': 'yellow', 'tree': 'green'}"
      ]
     },
     "execution_count": 111,
     "metadata": {},
     "output_type": "execute_result"
    }
   ],
   "source": [
    "# Create a new element\n",
    "earth[\"snow\"]=\"white\"\n",
    "earth"
   ]
  },
  {
   "cell_type": "markdown",
   "metadata": {
    "slideshow": {
     "slide_type": "slide"
    }
   },
   "source": [
    "## CSV\n",
    "CSV stands for “comma-separated values”.  \n",
    "CSV files are simplified spreadsheets stored as plaintext files.  \n",
    "Python’s csv module makes it easy to parse CSV files.  \n",
    "The advantage of CSV files is simplicity.   \n",
    "They are widely supported by many types of programs, can be viewed in text editors (including IDLE’s file editor), and are a straightforward way to represent spreadsheet data."
   ]
  },
  {
   "cell_type": "code",
   "execution_count": 112,
   "metadata": {
    "slideshow": {
     "slide_type": "subslide"
    }
   },
   "outputs": [
    {
     "name": "stdout",
     "output_type": "stream",
     "text": [
      "['Name', 'Quantity']\n",
      "['Bananas', '3']\n",
      "['Oranges', '4']\n",
      "['Apples', '5']\n"
     ]
    }
   ],
   "source": [
    "# This is how we import a library in Python \n",
    "# Inside this \"csv\" library are stored many useful csv functions accessible through a \".\"\n",
    "import csv\n",
    " \n",
    "# Open the \"basket.csv\" file in the current directory and write 4 rows in it.\n",
    "with open('./data/basket.csv', 'w+') as csvfile:\n",
    "    filewriter = csv.writer(csvfile, delimiter=',')\n",
    "    filewriter.writerow(['Name', 'Quantity'])\n",
    "    filewriter.writerow(['Bananas', 3])\n",
    "    filewriter.writerow(['Oranges', 4])\n",
    "    filewriter.writerow(['Apples', 5])\n",
    "    \n",
    "# Open the same file and read its content\n",
    "with open('./data/basket.csv', 'r+') as f:\n",
    "    reader = csv.reader(f)\n",
    "    # read file row by row\n",
    "    for row in reader:\n",
    "        print(row)"
   ]
  },
  {
   "cell_type": "code",
   "execution_count": 113,
   "metadata": {
    "slideshow": {
     "slide_type": "subslide"
    }
   },
   "outputs": [
    {
     "name": "stdout",
     "output_type": "stream",
     "text": [
      "merging ./data/evolution-trim-raccorde-2009.csv\n",
      "merging ./data/evolution-trim-raccorde-2010.csv\n",
      "merging ./data/evolution-trim-raccorde-2011.csv\n",
      "merging ./data/evolution-trim-raccorde-2013.csv\n",
      "merging ./data/evolution-trim-raccorde-2014.csv\n",
      "merging ./data/evolution-trim-raccorde-2015.csv\n",
      "merging ./data/evolution-trim-raccorde-2016.csv\n",
      "merging ./data/evolution-trim-raccorde-2017.csv\n"
     ]
    }
   ],
   "source": [
    "# Example of script to merge csv files\n",
    "from glob import glob\n",
    "with open('./data/merged.csv', 'a') as singleFile:\n",
    "    singleFile.write('Année;Trimestre;code;typeprod;NB;MW\\n')\n",
    "    for csvFile in glob('./data/evolution*.csv'):\n",
    "        print(\"merging\", csvFile)\n",
    "        for line in open(csvFile, 'r'):\n",
    "            if line.startswith('20'):\n",
    "                singleFile.write(line)"
   ]
  },
  {
   "cell_type": "markdown",
   "metadata": {
    "slideshow": {
     "slide_type": "slide"
    }
   },
   "source": [
    "# JSON\n",
    "When exchanging data between a browser and a server, the data can only be text.  \n",
    "JSON (JavaScript Object Notation) is a lightweight text format that is used for data interchanging.  \n",
    "JSON is useful to know, because many websites offer JSON content as a way for programs to interact with the website. This is known as providing an application programming interface (API)."
   ]
  },
  {
   "cell_type": "code",
   "execution_count": 19,
   "metadata": {
    "slideshow": {
     "slide_type": "subslide"
    }
   },
   "outputs": [
    {
     "name": "stdout",
     "output_type": "stream",
     "text": [
      "Peggy Whitson\n",
      "Fyodor Yurchikhin\n",
      "Jack Fischer\n"
     ]
    }
   ],
   "source": [
    "# Requests is a library to get web page contents inside our code\n",
    "# This script gets some json information on an API and prints it\n",
    "import requests\n",
    "data = requests.get('http://api.open-notify.org/astros.json').json()\n",
    "for people in data['people']:\n",
    "    print(people['name'])"
   ]
  },
  {
   "cell_type": "code",
   "execution_count": 20,
   "metadata": {
    "slideshow": {
     "slide_type": "subslide"
    }
   },
   "outputs": [
    {
     "name": "stdout",
     "output_type": "stream",
     "text": [
      "New position saved\n",
      "New position saved\n",
      "New position saved\n",
      "New position saved\n",
      "New position saved\n",
      "Done !\n"
     ]
    }
   ],
   "source": [
    "# This script asks some information to an API every 2 seconds and saves it in a csv\n",
    "\n",
    "import csv\n",
    "import time\n",
    "import datetime\n",
    "\n",
    "with open('./data/iss-flight.csv', 'w+') as csvfile:\n",
    "    filewriter = csv.writer(csvfile, delimiter=',')\n",
    "    filewriter.writerow(['Time','Latitude','Longitude'])\n",
    "    for i in range(5):\n",
    "        position = requests.get('http://api.open-notify.org/iss-now.json').json()\n",
    "        filewriter.writerow([\n",
    "            position['timestamp'],\n",
    "            position['iss_position']['latitude'], \n",
    "            position['iss_position']['longitude']\n",
    "        ])\n",
    "        print(\"New position saved\")\n",
    "        time.sleep(2)\n",
    "print('Done !')"
   ]
  },
  {
   "cell_type": "markdown",
   "metadata": {
    "slideshow": {
     "slide_type": "slide"
    }
   },
   "source": [
    "# A taste of Python power\n",
    "Python has a huge number of opensource libraries that makes it super powerful.   \n",
    "A library is a set of reusable pre-coded functionalities, like a \"black box\". \n",
    "\n",
    "There is a library for pretty much everything related to computers.  \n",
    "Manipulating images, create games, softwares, linear algebra, search algorithms ...  \n",
    "Here are a few examples. \n"
   ]
  },
  {
   "cell_type": "markdown",
   "metadata": {
    "slideshow": {
     "slide_type": "slide"
    }
   },
   "source": [
    "# Regex\n",
    "\n",
    "A regular expression (or \"regex\") is a sequence of characters that define a search pattern.   \n",
    "Usually this pattern is then used by string searching algorithms for \"find\" or \"find and replace\" operations on strings."
   ]
  },
  {
   "cell_type": "code",
   "execution_count": 118,
   "metadata": {
    "slideshow": {
     "slide_type": "fragment"
    }
   },
   "outputs": [
    {
     "name": "stdout",
     "output_type": "stream",
     "text": [
      "['lucas.berbesson@fabdev.fr', 'claire.protin@fabdev.fr']\n"
     ]
    }
   ],
   "source": [
    "# Script to match all the fabdev.fr emails inside a .txt file\n",
    "import re\n",
    "results = []\n",
    "# Modify the script to match all the emails \n",
    "for line in open('./data/lorem.txt'):\n",
    "    results += re.findall(r'[\\w\\.-]+@fabdev.fr', line)\n",
    "print(results)"
   ]
  },
  {
   "cell_type": "markdown",
   "metadata": {
    "slideshow": {
     "slide_type": "slide"
    }
   },
   "source": [
    "# Sending emails\n",
    "The smtplib module defines an SMTP client session object that can be used to send mail to any Internet machine."
   ]
  },
  {
   "cell_type": "code",
   "execution_count": 26,
   "metadata": {
    "slideshow": {
     "slide_type": "fragment"
    }
   },
   "outputs": [
    {
     "data": {
      "text/plain": [
       "(221, b'2.0.0 closing connection 47sm19210805wrb.55 - gsmtp')"
      ]
     },
     "execution_count": 26,
     "metadata": {},
     "output_type": "execute_result"
    }
   ],
   "source": [
    "# Send the result of the previous script to lucas.berbesson@fabdev.fr with the smtp library. \n",
    "import os\n",
    "import smtplib \n",
    "server = smtplib.SMTP('smtp.gmail.com', 587)\n",
    "server.starttls()\n",
    "server.login(\"lucasberbesson@gmail.com\", os.environ['MY_PWD'])\n",
    "msg = \"I found {} emails in lorem.txt\".format(len(email_list))\n",
    "server.sendmail(\"lucasberbesson@gmail.com\",\"lucas.berbesson@fabdev.fr\", msg)\n",
    "server.quit()"
   ]
  },
  {
   "cell_type": "markdown",
   "metadata": {
    "collapsed": true,
    "slideshow": {
     "slide_type": "slide"
    }
   },
   "source": [
    "# BeautifulSoup : XML and HTML parser\n",
    "A Python library for pulling data out of HTML and XML files. [Documentation](https://www.crummy.com/software/BeautifulSoup/bs4/doc/)"
   ]
  },
  {
   "cell_type": "code",
   "execution_count": 121,
   "metadata": {
    "slideshow": {
     "slide_type": "subslide"
    }
   },
   "outputs": [
    {
     "data": {
      "text/html": [
       "<a class=\"article usg-AFQjCNE9oehNkorOYVNktg-oC0bLB9ONNA did--7609398215232050845\" href=\"http://www.lefigaro.fr/societes/2017/06/06/20005-20170606ARTFIG00351-energie-verte-levee-de-fonds-record-pour-eren-re.php\" id=\"MAA4AEgAUABgAWoCZnJ6AA\" target=\"_blank\" url=\"http://www.lefigaro.fr/societes/2017/06/06/20005-20170606ARTFIG00351-energie-verte-levee-de-fonds-record-pour-eren-re.php\"><span class=\"titletext\"><b>Énergie</b> verte : levée de fonds record pour Eren RE</span></a>"
      ],
      "text/plain": [
       "<IPython.core.display.HTML object>"
      ]
     },
     "metadata": {},
     "output_type": "display_data"
    },
    {
     "data": {
      "text/html": [
       "<a class=\"article usg-AFQjCNFCAdgjhP3D7sL5H_Hh_jsHJvIKdw did--2053255647529815075\" href=\"http://www.republicain-lorrain.fr/edition-de-longwy/2017/06/06/bassin-de-longwy-sclerose-en-plaques-l-energie-et-la-passion\" id=\"MAA4AEgBUABgAWoCZnJ6AA\" target=\"_blank\" url=\"http://www.republicain-lorrain.fr/edition-de-longwy/2017/06/06/bassin-de-longwy-sclerose-en-plaques-l-energie-et-la-passion\"><span class=\"titletext\">Bassin de Longwy : sclérose en plaques, l'<b>énergie</b> et la passion</span></a>"
      ],
      "text/plain": [
       "<IPython.core.display.HTML object>"
      ]
     },
     "metadata": {},
     "output_type": "display_data"
    },
    {
     "data": {
      "text/html": [
       "<a class=\"article usg-AFQjCNGcZD_b0eJZGGwsV_kju-sd_uYXoA did-1578742265935880080\" href=\"http://www.leparisien.fr/aubervilliers-93300/le-departement-s-engage-aupres-des-agences-de-l-energie-et-du-climat-06-06-2017-7023942.php\" id=\"MAA4AEgCUABgAWoCZnJ6AA\" target=\"_blank\" url=\"http://www.leparisien.fr/aubervilliers-93300/le-departement-s-engage-aupres-des-agences-de-l-energie-et-du-climat-06-06-2017-7023942.php\"><span class=\"titletext\">Le département s'engage auprès des agences de l'<b>énergie</b> et du ...</span></a>"
      ],
      "text/plain": [
       "<IPython.core.display.HTML object>"
      ]
     },
     "metadata": {},
     "output_type": "display_data"
    },
    {
     "data": {
      "text/html": [
       "<a class=\"article usg-AFQjCNEBHcv6pj0x0W5MJ2F5_0uWnirh9g did-4230937676063801267\" href=\"http://mashable.france24.com/monde/20170607-prince-energie-solaire-powerhouse-investissement\" id=\"MAA4AEgDUABgAWoCZnJ6AA\" target=\"_blank\" url=\"http://mashable.france24.com/monde/20170607-prince-energie-solaire-powerhouse-investissement\"><span class=\"titletext\">Sachez qu'avant sa mort, Prince a secrètement investi dans l ...</span></a>"
      ],
      "text/plain": [
       "<IPython.core.display.HTML object>"
      ]
     },
     "metadata": {},
     "output_type": "display_data"
    },
    {
     "data": {
      "text/html": [
       "<a class=\"article usg-AFQjCNGGbKisYnBEbaRiCgxtx1UdYbBqTg did-7133961435361259624\" href=\"https://www.lequipe.fr/Cyclisme-sur-route/Actualites/Direct-energie-bryan-coquard-sera-t-il-prive-de-tour-de-france/807953\" id=\"MAA4AEgEUABgAWoCZnJ6AA\" target=\"_blank\" url=\"https://www.lequipe.fr/Cyclisme-sur-route/Actualites/Direct-energie-bryan-coquard-sera-t-il-prive-de-tour-de-france/807953\"><span class=\"titletext\">Direct Énergie : Bryan Coquard sera-t-il privé de Tour de France ...</span></a>"
      ],
      "text/plain": [
       "<IPython.core.display.HTML object>"
      ]
     },
     "metadata": {},
     "output_type": "display_data"
    },
    {
     "data": {
      "text/html": [
       "<a class=\"article usg-AFQjCNHheGon07uSYZfnvKf08Snh26dIAA did-2194316133547014591\" href=\"http://www.lepoint.fr/environnement/energies-renouvelables-un-developpement-record-en-2016-mais-insuffisant-07-06-2017-2133356_1927.php\" id=\"MAA4AEgFUABgAWoCZnJ6AA\" target=\"_blank\" url=\"http://www.lepoint.fr/environnement/energies-renouvelables-un-developpement-record-en-2016-mais-insuffisant-07-06-2017-2133356_1927.php\"><span class=\"titletext\"><b>Énergies</b> renouvelables : un développement record en 2016, mais ...</span></a>"
      ],
      "text/plain": [
       "<IPython.core.display.HTML object>"
      ]
     },
     "metadata": {},
     "output_type": "display_data"
    },
    {
     "data": {
      "text/html": [
       "<a class=\"article usg-AFQjCNHL81rdTNf44qTr0nhzgs8esnwW-Q did-8210000696216372434\" href=\"http://www.boursorama.com/actualites/edf-engie-direct-energie-et-si-c-etait-le-moment-d-acheter-des-utilities-6ce234f6df5bb22bc5e1e55d174e9c9a\" id=\"MAA4AEgGUABgAWoCZnJ6AA\" target=\"_blank\" url=\"http://www.boursorama.com/actualites/edf-engie-direct-energie-et-si-c-etait-le-moment-d-acheter-des-utilities-6ce234f6df5bb22bc5e1e55d174e9c9a\"><span class=\"titletext\">EDF, Engie, Direct <b>Energie</b> : et si c'était le moment d'acheter des ...</span></a>"
      ],
      "text/plain": [
       "<IPython.core.display.HTML object>"
      ]
     },
     "metadata": {},
     "output_type": "display_data"
    },
    {
     "data": {
      "text/html": [
       "<a class=\"article usg-AFQjCNE9AeSJ0W0Nl5B7vipKzzIXzOKAXA did--6504551374181790839\" href=\"http://www.connaissancedesenergies.org/lelectricite-decarbonee-axe-majeur-de-la-transition-energetique-mondiale-170606\" id=\"MAA4AEgHUABgAWoCZnJ6AA\" target=\"_blank\" url=\"http://www.connaissancedesenergies.org/lelectricite-decarbonee-axe-majeur-de-la-transition-energetique-mondiale-170606\"><span class=\"titletext\">L'électricité décarbonée, axe majeur de la transition énergétique ...</span></a>"
      ],
      "text/plain": [
       "<IPython.core.display.HTML object>"
      ]
     },
     "metadata": {},
     "output_type": "display_data"
    },
    {
     "data": {
      "text/html": [
       "<a class=\"article usg-AFQjCNHdlbjK2DIM4o8WSzDCDUhlvcNR7w did-8953562062811850668\" href=\"http://www.ouest-france.fr/normandie/valdalliere-14410/energie-plus-de-bois-d-eoliennes-et-de-solaire-5041325\" id=\"MAA4AEgIUABgAWoCZnJ6AA\" target=\"_blank\" url=\"http://www.ouest-france.fr/normandie/valdalliere-14410/energie-plus-de-bois-d-eoliennes-et-de-solaire-5041325\"><span class=\"titletext\"><b>Energie</b> : plus de bois, d'éoliennes et de solaire</span></a>"
      ],
      "text/plain": [
       "<IPython.core.display.HTML object>"
      ]
     },
     "metadata": {},
     "output_type": "display_data"
    },
    {
     "data": {
      "text/html": [
       "<a class=\"article usg-AFQjCNENkaKXBSWc7NW3ki7wISPheTroRA did--5990994881463301532\" href=\"http://afrique.latribune.fr/entreprises/green-business/2017-06-06/energie-solaire-akon-leve-des-fonds-pour-soutenir-son-action-en-afrique-731829.html\" id=\"MAA4AEgJUABgAWoCZnJ6AA\" target=\"_blank\" url=\"http://afrique.latribune.fr/entreprises/green-business/2017-06-06/energie-solaire-akon-leve-des-fonds-pour-soutenir-son-action-en-afrique-731829.html\"><span class=\"titletext\">Energie solaire: Akon lève des fonds pour soutenir son action en ...</span></a>"
      ],
      "text/plain": [
       "<IPython.core.display.HTML object>"
      ]
     },
     "metadata": {},
     "output_type": "display_data"
    },
    {
     "data": {
      "text/html": [
       "<a class=\"article usg-AFQjCNFp2knIZnQIWbbZvkzxR-D4s4QCHg did--3090432400787354848\" href=\"https://www.contrepoints.org/2017/06/07/291441-politique-energetique-nouveau-quinquennat\" id=\"MAA4AEgKUABgAWoCZnJ6AA\" target=\"_blank\" url=\"https://www.contrepoints.org/2017/06/07/291441-politique-energetique-nouveau-quinquennat\"><span class=\"titletext\">Politique énergétique : les deux grands axes du nouveau quinquennat</span></a>"
      ],
      "text/plain": [
       "<IPython.core.display.HTML object>"
      ]
     },
     "metadata": {},
     "output_type": "display_data"
    },
    {
     "data": {
      "text/html": [
       "<a class=\"article usg-AFQjCNEnMD1OA8_WD1hdNpkRc5mJlO9VRA did--6932585148000967480\" href=\"http://www.centre-presse.fr/article-533479-grand-poitiers-met-le-paquet-sur-les-economies-d-energie.html\" id=\"MAA4AEgLUABgAWoCZnJ6AA\" target=\"_blank\" url=\"http://www.centre-presse.fr/article-533479-grand-poitiers-met-le-paquet-sur-les-economies-d-energie.html\"><span class=\"titletext\">Grand Poitiers met le paquet sur les économies d'<b>énergie</b></span></a>"
      ],
      "text/plain": [
       "<IPython.core.display.HTML object>"
      ]
     },
     "metadata": {},
     "output_type": "display_data"
    },
    {
     "data": {
      "text/html": [
       "<a class=\"article usg-AFQjCNFBtOR3rnQRs__GUCT6DkxSyuWcyw did-1846020689065581911\" href=\"http://www.lanouvellerepublique.fr/Deux-Sevres/Actualite/Politique/n/Contenus/Articles/2017/06/06/Des-energies-et-des-volontes-3124144\" id=\"MAA4AEgMUABgAWoCZnJ6AA\" target=\"_blank\" url=\"http://www.lanouvellerepublique.fr/Deux-Sevres/Actualite/Politique/n/Contenus/Articles/2017/06/06/Des-energies-et-des-volontes-3124144\"><span class=\"titletext\">Des <b>énergies</b> et des volontés</span></a>"
      ],
      "text/plain": [
       "<IPython.core.display.HTML object>"
      ]
     },
     "metadata": {},
     "output_type": "display_data"
    },
    {
     "data": {
      "text/html": [
       "<a class=\"article usg-AFQjCNFhdc80O5AL_QIwzS70Na_ZP0gYXw did--1659188832314570412\" href=\"http://www.lemondedelenergie.com/climat-lue-prone-la-cooperation-avec-les-villes-americaines/2017/06/06/\" id=\"MAA4AEgNUABgAWoCZnJ6AA\" target=\"_blank\" url=\"http://www.lemondedelenergie.com/climat-lue-prone-la-cooperation-avec-les-villes-americaines/2017/06/06/\"><span class=\"titletext\">Climat: l'UE prône la coopération avec les villes américaines</span></a>"
      ],
      "text/plain": [
       "<IPython.core.display.HTML object>"
      ]
     },
     "metadata": {},
     "output_type": "display_data"
    },
    {
     "data": {
      "text/html": [
       "<a class=\"article usg-AFQjCNGeE9Jv1xggrPoYUdJEohAywRI4_w did--4923905149887742841\" href=\"http://www.leparisien.fr/oise-60/l-oise-produit-peu-d-energie-mais-elle-est-verte-04-06-2017-7017168.php\" id=\"MAA4AEgOUABgAWoCZnJ6AA\" target=\"_blank\" url=\"http://www.leparisien.fr/oise-60/l-oise-produit-peu-d-energie-mais-elle-est-verte-04-06-2017-7017168.php\"><span class=\"titletext\">L'Oise produit peu d'<b>énergie</b>, mais elle est verte</span></a>"
      ],
      "text/plain": [
       "<IPython.core.display.HTML object>"
      ]
     },
     "metadata": {},
     "output_type": "display_data"
    },
    {
     "data": {
      "text/html": [
       "<a class=\"article usg-AFQjCNGUzRV8i3oRXSzlHP_upVkNM0kkfQ did-17546939599963892\" href=\"http://www.atelier.net/trends/articles/un-mp3-solaire-livre-de-information-vitale-aux-tanziennes_445976\" id=\"MAA4AEgPUABgAWoCZnJ6AA\" target=\"_blank\" url=\"http://www.atelier.net/trends/articles/un-mp3-solaire-livre-de-information-vitale-aux-tanziennes_445976\"><span class=\"titletext\">Un MP3 à énergie solaire aide les mères africaines à sauver des vies</span></a>"
      ],
      "text/plain": [
       "<IPython.core.display.HTML object>"
      ]
     },
     "metadata": {},
     "output_type": "display_data"
    },
    {
     "data": {
      "text/html": [
       "<a class=\"article usg-AFQjCNFG1G8Z4KbWCVAZzljaAF8s5_WLeQ did--352917310181020918\" href=\"http://www.courrierdesmaires.fr/69046/monter-un-plan-climat-air-energie-territorial/\" id=\"MAA4AEgQUABgAWoCZnJ6AA\" target=\"_blank\" url=\"http://www.courrierdesmaires.fr/69046/monter-un-plan-climat-air-energie-territorial/\"><span class=\"titletext\">Monter un plan climat-air-<b>énergie</b> territorial</span></a>"
      ],
      "text/plain": [
       "<IPython.core.display.HTML object>"
      ]
     },
     "metadata": {},
     "output_type": "display_data"
    },
    {
     "data": {
      "text/html": [
       "<a class=\"article usg-AFQjCNGeLJ0u9kYH6fOiWUpXIORE-OrxJA did--6079749431954283164\" href=\"http://www.usinenouvelle.com/editorial/l-interoperabilite-des-systemes-d-energie-presque-reglee-grace-a-seas.N547938\" id=\"MAA4AEgRUABgAWoCZnJ6AA\" target=\"_blank\" url=\"http://www.usinenouvelle.com/editorial/l-interoperabilite-des-systemes-d-energie-presque-reglee-grace-a-seas.N547938\"><span class=\"titletext\">L'interopérabilité des systèmes d'<b>énergie</b> (presque) réglée grâce à ...</span></a>"
      ],
      "text/plain": [
       "<IPython.core.display.HTML object>"
      ]
     },
     "metadata": {},
     "output_type": "display_data"
    },
    {
     "data": {
      "text/html": [
       "<a class=\"article usg-AFQjCNFTdC3m_8UJH0I6ZKU95vXsRQZHEw did--371445020158613787\" href=\"http://www.environnement-magazine.fr/article/49530-evolution-energie-la-start-up-qui-compte/\" id=\"MAA4AEgSUABgAWoCZnJ6AA\" target=\"_blank\" url=\"http://www.environnement-magazine.fr/article/49530-evolution-energie-la-start-up-qui-compte/\"><span class=\"titletext\">Evolution <b>Energie</b>, la start-up qui compte</span></a>"
      ],
      "text/plain": [
       "<IPython.core.display.HTML object>"
      ]
     },
     "metadata": {},
     "output_type": "display_data"
    },
    {
     "data": {
      "text/html": [
       "<a class=\"article usg-AFQjCNGmeh62Goxc3KsVw__K2ncKUCXbCw did--3354419639737556840\" href=\"http://www.leparisien.fr/economie/energie-trop-de-demarchages-abusifs-au-compteur-30-05-2017-6996678.php\" id=\"MAA4AEgTUABgAWoCZnJ6AA\" target=\"_blank\" url=\"http://www.leparisien.fr/economie/energie-trop-de-demarchages-abusifs-au-compteur-30-05-2017-6996678.php\"><span class=\"titletext\"><b>Energie</b> : trop de démarchages abusifs au compteur</span></a>"
      ],
      "text/plain": [
       "<IPython.core.display.HTML object>"
      ]
     },
     "metadata": {},
     "output_type": "display_data"
    }
   ],
   "source": [
    "# Print all recent news related to \"energie\"\n",
    "import requests\n",
    "from IPython.core.display import display, HTML\n",
    "from bs4 import BeautifulSoup\n",
    "\n",
    "r = requests.get('https://news.google.com/news/section?q={energie}&ned=fr')\n",
    "soup = BeautifulSoup(r.text, \"lxml\")\n",
    "for link in soup.select(\"h2.esc-lead-article-title a\"):\n",
    "    display(HTML(str(link)))"
   ]
  },
  {
   "cell_type": "markdown",
   "metadata": {
    "collapsed": true,
    "slideshow": {
     "slide_type": "slide"
    }
   },
   "source": [
    "# Time & Datetime\n",
    "The datetime module supplies classes for manipulating dates and times in both simple and complex ways."
   ]
  },
  {
   "cell_type": "code",
   "execution_count": 122,
   "metadata": {
    "slideshow": {
     "slide_type": "subslide"
    }
   },
   "outputs": [
    {
     "name": "stdout",
     "output_type": "stream",
     "text": [
      "2017-06-07 11:22:11.916908\n",
      "2017-10-13 11:22:11.916908\n"
     ]
    }
   ],
   "source": [
    "import datetime\n",
    "# Print today's date\n",
    "today = datetime.datetime.today()\n",
    "print(today)\n",
    "# Find next friday the 13th\n",
    "while not (today.day == 13 and today.weekday() == 4):\n",
    "    today += datetime.timedelta(days=1)\n",
    "print(today)"
   ]
  },
  {
   "cell_type": "code",
   "execution_count": null,
   "metadata": {
    "collapsed": true
   },
   "outputs": [],
   "source": []
  }
 ],
 "metadata": {
  "celltoolbar": "Slideshow",
  "kernelspec": {
   "display_name": "Python 3",
   "language": "python",
   "name": "python3"
  },
  "language_info": {
   "codemirror_mode": {
    "name": "ipython",
    "version": 3
   },
   "file_extension": ".py",
   "mimetype": "text/x-python",
   "name": "python",
   "nbconvert_exporter": "python",
   "pygments_lexer": "ipython3",
   "version": "3.5.1"
  }
 },
 "nbformat": 4,
 "nbformat_minor": 2
}
