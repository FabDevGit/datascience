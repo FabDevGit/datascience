{
 "cells": [
  {
   "cell_type": "markdown",
   "metadata": {
    "slideshow": {
     "slide_type": "slide"
    }
   },
   "source": [
    "# Introduction\n",
    "\n",
    "1. You will find nearly everything on google  \n",
    "2. A programmer is someone who can turn stack overflow snippets into running code  \n",
    "3. The most important part is when you to try it yourself\n",
    "3. If you code is too complicated, there must be another solution"
   ]
  },
  {
   "cell_type": "markdown",
   "metadata": {
    "slideshow": {
     "slide_type": "slide"
    }
   },
   "source": [
    "#  Data collection\n",
    "The goal of this step is to obtain a **Dataframe** which is a Python equivalent of a spreadsheet.  \n",
    "Data can be found in various forms but the most commons are **CSV** (for downloadable resources), **JSON** (mostly in APIs), **HTML/XML** (when you scrap) and **Databases** (for example SQL). \n"
   ]
  },
  {
   "cell_type": "markdown",
   "metadata": {
    "slideshow": {
     "slide_type": "subslide"
    }
   },
   "source": [
    "### Scraping data\n",
    "Scraping data consists in extracting it from the web.  \n",
    "There are many different libraries to do so such as **beautifulsoup** or **lxml** as we saw in **beyond excel**.   \n",
    "Scraping data requires some knowledge in HTML and CSS.  \n",
    "Also there are a few rules to follow :  \n",
    "- be careful and polite\n",
    "- give credit\n",
    "- care about media law\n",
    "- don't be evil (no spam, overloading sites, etc.)\n",
    "- respect robots.txt\n",
    "\n",
    "\n"
   ]
  },
  {
   "cell_type": "markdown",
   "metadata": {
    "slideshow": {
     "slide_type": "subslide"
    }
   },
   "source": [
    "### Getting data from an API\n",
    "Some fun and useful API : \n",
    "- [IFTTT](https://ifttt.com/)\n",
    "- [Open weather map](http://openweathermap.org/)\n",
    "- [SNCF](https://data.sncf.com/api)\n",
    "- [Google](https://console.developers.google.com/apis/library?pli=1)\n",
    "- [Enedis](https://data.enedis.fr/page/accueil/)"
   ]
  },
  {
   "cell_type": "code",
   "execution_count": 367,
   "metadata": {
    "collapsed": true,
    "slideshow": {
     "slide_type": "slide"
    }
   },
   "outputs": [],
   "source": [
    "import pandas as pd\n",
    "import numpy as np\n",
    "import seaborn as sns\n",
    "import matplotlib.pyplot as plt\n",
    "%matplotlib inline"
   ]
  },
  {
   "cell_type": "markdown",
   "metadata": {
    "slideshow": {
     "slide_type": "subslide"
    }
   },
   "source": [
    "### Downloading open data\n",
    "Some websites have downloadable open data. \n",
    "For this live demo we are interested in data on deputes.  \n",
    "After some search on google we found this page : [https://www.nosdeputes.fr/synthese](https://www.nosdeputes.fr/synthese)   \n",
    "We could have scrap it but luckily they have a downloadable csv file !"
   ]
  },
  {
   "cell_type": "code",
   "execution_count": 368,
   "metadata": {
    "collapsed": true
   },
   "outputs": [],
   "source": [
    "deputes = pd.read_csv('./nosdeputes.fr_synthese_2017-05-17.csv', delimiter=\";\",index_col=0)"
   ]
  },
  {
   "cell_type": "markdown",
   "metadata": {},
   "source": [
    "# Data cleaning\n",
    "\n",
    "- Filter out unrelated data. \n",
    "- Replace missing values.  \n",
    "- Fix mispelling errors. \n",
    "- Remove outliers. "
   ]
  },
  {
   "cell_type": "code",
   "execution_count": 369,
   "metadata": {},
   "outputs": [
    {
     "name": "stdout",
     "output_type": "stream",
     "text": [
      "(631, 52)\n"
     ]
    },
    {
     "data": {
      "text/html": [
       "<div>\n",
       "<table border=\"1\" class=\"dataframe\">\n",
       "  <thead>\n",
       "    <tr style=\"text-align: right;\">\n",
       "      <th></th>\n",
       "      <th>nom</th>\n",
       "      <th>nom_de_famille</th>\n",
       "      <th>prenom</th>\n",
       "      <th>sexe</th>\n",
       "      <th>date_naissance</th>\n",
       "      <th>lieu_naissance</th>\n",
       "      <th>num_deptmt</th>\n",
       "      <th>nom_circo</th>\n",
       "      <th>num_circo</th>\n",
       "      <th>mandat_debut</th>\n",
       "      <th>...</th>\n",
       "      <th>rapports_moyenne_mensuelle</th>\n",
       "      <th>propositions_ecrites</th>\n",
       "      <th>propositions_ecrites_moyenne_mensuelle</th>\n",
       "      <th>propositions_signees</th>\n",
       "      <th>propositions_signees_moyenne_mensuelle</th>\n",
       "      <th>questions_ecrites</th>\n",
       "      <th>questions_ecrites_moyenne_mensuelle</th>\n",
       "      <th>questions_orales</th>\n",
       "      <th>questions_orales_moyenne_mensuelle</th>\n",
       "      <th>Unnamed: 52</th>\n",
       "    </tr>\n",
       "    <tr>\n",
       "      <th>id</th>\n",
       "      <th></th>\n",
       "      <th></th>\n",
       "      <th></th>\n",
       "      <th></th>\n",
       "      <th></th>\n",
       "      <th></th>\n",
       "      <th></th>\n",
       "      <th></th>\n",
       "      <th></th>\n",
       "      <th></th>\n",
       "      <th></th>\n",
       "      <th></th>\n",
       "      <th></th>\n",
       "      <th></th>\n",
       "      <th></th>\n",
       "      <th></th>\n",
       "      <th></th>\n",
       "      <th></th>\n",
       "      <th></th>\n",
       "      <th></th>\n",
       "      <th></th>\n",
       "    </tr>\n",
       "  </thead>\n",
       "  <tbody>\n",
       "    <tr>\n",
       "      <th>350</th>\n",
       "      <td>Damien Abad</td>\n",
       "      <td>Abad</td>\n",
       "      <td>Damien</td>\n",
       "      <td>H</td>\n",
       "      <td>1980-04-05</td>\n",
       "      <td>Nîmes (Gard)</td>\n",
       "      <td>01</td>\n",
       "      <td>Ain</td>\n",
       "      <td>5</td>\n",
       "      <td>2012-06-20</td>\n",
       "      <td>...</td>\n",
       "      <td>0.13</td>\n",
       "      <td>7</td>\n",
       "      <td>0.15</td>\n",
       "      <td>488</td>\n",
       "      <td>10.38</td>\n",
       "      <td>317</td>\n",
       "      <td>6.74</td>\n",
       "      <td>23</td>\n",
       "      <td>0.49</td>\n",
       "      <td>NaN</td>\n",
       "    </tr>\n",
       "    <tr>\n",
       "      <th>370</th>\n",
       "      <td>Laurence Abeille</td>\n",
       "      <td>Abeille</td>\n",
       "      <td>Laurence</td>\n",
       "      <td>F</td>\n",
       "      <td>1960-06-17</td>\n",
       "      <td>Neuilly-sur-Seine (Hauts-de-Seine)</td>\n",
       "      <td>94</td>\n",
       "      <td>Val-de-Marne</td>\n",
       "      <td>6</td>\n",
       "      <td>2012-06-20</td>\n",
       "      <td>...</td>\n",
       "      <td>0.06</td>\n",
       "      <td>7</td>\n",
       "      <td>0.15</td>\n",
       "      <td>58</td>\n",
       "      <td>1.23</td>\n",
       "      <td>192</td>\n",
       "      <td>4.09</td>\n",
       "      <td>20</td>\n",
       "      <td>0.43</td>\n",
       "      <td>NaN</td>\n",
       "    </tr>\n",
       "    <tr>\n",
       "      <th>557</th>\n",
       "      <td>Ibrahim Aboubacar</td>\n",
       "      <td>Aboubacar</td>\n",
       "      <td>Ibrahim</td>\n",
       "      <td>H</td>\n",
       "      <td>1965-02-01</td>\n",
       "      <td>Fomboni (Comores)</td>\n",
       "      <td>976</td>\n",
       "      <td>Mayotte</td>\n",
       "      <td>2</td>\n",
       "      <td>2012-06-20</td>\n",
       "      <td>...</td>\n",
       "      <td>0.06</td>\n",
       "      <td>0</td>\n",
       "      <td>0.00</td>\n",
       "      <td>65</td>\n",
       "      <td>1.38</td>\n",
       "      <td>1</td>\n",
       "      <td>0.02</td>\n",
       "      <td>10</td>\n",
       "      <td>0.21</td>\n",
       "      <td>NaN</td>\n",
       "    </tr>\n",
       "    <tr>\n",
       "      <th>604</th>\n",
       "      <td>Élie Aboud</td>\n",
       "      <td>Aboud</td>\n",
       "      <td>Élie</td>\n",
       "      <td>H</td>\n",
       "      <td>1959-10-12</td>\n",
       "      <td>Beyrouth (Liban)</td>\n",
       "      <td>34</td>\n",
       "      <td>Hérault</td>\n",
       "      <td>6</td>\n",
       "      <td>2012-12-17</td>\n",
       "      <td>...</td>\n",
       "      <td>0.00</td>\n",
       "      <td>10</td>\n",
       "      <td>0.24</td>\n",
       "      <td>261</td>\n",
       "      <td>6.21</td>\n",
       "      <td>415</td>\n",
       "      <td>9.88</td>\n",
       "      <td>14</td>\n",
       "      <td>0.33</td>\n",
       "      <td>NaN</td>\n",
       "    </tr>\n",
       "    <tr>\n",
       "      <th>173</th>\n",
       "      <td>Bernard Accoyer</td>\n",
       "      <td>Accoyer</td>\n",
       "      <td>Bernard</td>\n",
       "      <td>H</td>\n",
       "      <td>1945-08-12</td>\n",
       "      <td>Lyon (Rhône)</td>\n",
       "      <td>74</td>\n",
       "      <td>Haute-Savoie</td>\n",
       "      <td>1</td>\n",
       "      <td>2012-06-20</td>\n",
       "      <td>...</td>\n",
       "      <td>0.00</td>\n",
       "      <td>22</td>\n",
       "      <td>0.47</td>\n",
       "      <td>237</td>\n",
       "      <td>5.04</td>\n",
       "      <td>74</td>\n",
       "      <td>1.57</td>\n",
       "      <td>13</td>\n",
       "      <td>0.28</td>\n",
       "      <td>NaN</td>\n",
       "    </tr>\n",
       "  </tbody>\n",
       "</table>\n",
       "<p>5 rows × 52 columns</p>\n",
       "</div>"
      ],
      "text/plain": [
       "                   nom nom_de_famille    prenom sexe date_naissance  \\\n",
       "id                                                                    \n",
       "350        Damien Abad           Abad    Damien    H     1980-04-05   \n",
       "370   Laurence Abeille        Abeille  Laurence    F     1960-06-17   \n",
       "557  Ibrahim Aboubacar      Aboubacar   Ibrahim    H     1965-02-01   \n",
       "604         Élie Aboud          Aboud      Élie    H     1959-10-12   \n",
       "173    Bernard Accoyer        Accoyer   Bernard    H     1945-08-12   \n",
       "\n",
       "                         lieu_naissance num_deptmt     nom_circo  num_circo  \\\n",
       "id                                                                            \n",
       "350                        Nîmes (Gard)         01           Ain          5   \n",
       "370  Neuilly-sur-Seine (Hauts-de-Seine)         94  Val-de-Marne          6   \n",
       "557                   Fomboni (Comores)        976       Mayotte          2   \n",
       "604                    Beyrouth (Liban)         34       Hérault          6   \n",
       "173                        Lyon (Rhône)         74  Haute-Savoie          1   \n",
       "\n",
       "    mandat_debut     ...     rapports_moyenne_mensuelle  propositions_ecrites  \\\n",
       "id                   ...                                                        \n",
       "350   2012-06-20     ...                           0.13                     7   \n",
       "370   2012-06-20     ...                           0.06                     7   \n",
       "557   2012-06-20     ...                           0.06                     0   \n",
       "604   2012-12-17     ...                           0.00                    10   \n",
       "173   2012-06-20     ...                           0.00                    22   \n",
       "\n",
       "    propositions_ecrites_moyenne_mensuelle propositions_signees  \\\n",
       "id                                                                \n",
       "350                                   0.15                  488   \n",
       "370                                   0.15                   58   \n",
       "557                                   0.00                   65   \n",
       "604                                   0.24                  261   \n",
       "173                                   0.47                  237   \n",
       "\n",
       "    propositions_signees_moyenne_mensuelle questions_ecrites  \\\n",
       "id                                                             \n",
       "350                                  10.38               317   \n",
       "370                                   1.23               192   \n",
       "557                                   1.38                 1   \n",
       "604                                   6.21               415   \n",
       "173                                   5.04                74   \n",
       "\n",
       "     questions_ecrites_moyenne_mensuelle questions_orales  \\\n",
       "id                                                          \n",
       "350                                 6.74               23   \n",
       "370                                 4.09               20   \n",
       "557                                 0.02               10   \n",
       "604                                 9.88               14   \n",
       "173                                 1.57               13   \n",
       "\n",
       "     questions_orales_moyenne_mensuelle Unnamed: 52  \n",
       "id                                                   \n",
       "350                                0.49         NaN  \n",
       "370                                0.43         NaN  \n",
       "557                                0.21         NaN  \n",
       "604                                0.33         NaN  \n",
       "173                                0.28         NaN  \n",
       "\n",
       "[5 rows x 52 columns]"
      ]
     },
     "execution_count": 369,
     "metadata": {},
     "output_type": "execute_result"
    }
   ],
   "source": [
    "# show shape of data\n",
    "print(deputes.shape)\n",
    "# show 5 first rows \n",
    "deputes.head(5)"
   ]
  },
  {
   "cell_type": "code",
   "execution_count": 370,
   "metadata": {},
   "outputs": [
    {
     "data": {
      "text/plain": [
       "<matplotlib.axes._subplots.AxesSubplot at 0x187b1b278>"
      ]
     },
     "execution_count": 370,
     "metadata": {},
     "output_type": "execute_result"
    },
    {
     "data": {
      "image/png": "[encoded data removed]",
      "text/plain": [
       "<matplotlib.figure.Figure at 0x186fc3f98>"
      ]
     },
     "metadata": {},
     "output_type": "display_data"
    }
   ],
   "source": [
    "plt.figure(figsize=(15,10))\n",
    "sns.heatmap(deputes.isnull(),yticklabels=False,cbar=False,cmap='viridis')"
   ]
  },
  {
   "cell_type": "code",
   "execution_count": 371,
   "metadata": {
    "collapsed": true
   },
   "outputs": [],
   "source": [
    "# drop incomplete columns\n",
    "deputes.drop(['twitter', 'sites_web','mandat_fin'],axis=1,inplace=True)"
   ]
  },
  {
   "cell_type": "code",
   "execution_count": 372,
   "metadata": {
    "collapsed": true
   },
   "outputs": [],
   "source": [
    "# drop strange last column\n",
    "deputes.drop(deputes.columns[-1], axis=1,inplace=True)"
   ]
  },
  {
   "cell_type": "code",
   "execution_count": 373,
   "metadata": {
    "collapsed": true
   },
   "outputs": [],
   "source": [
    "# drop remaining incomplete rows \n",
    "deputes.dropna(inplace=True, axis=0)"
   ]
  },
  {
   "cell_type": "code",
   "execution_count": 374,
   "metadata": {},
   "outputs": [
    {
     "data": {
      "text/plain": [
       "(586, 48)"
      ]
     },
     "execution_count": 374,
     "metadata": {},
     "output_type": "execute_result"
    }
   ],
   "source": [
    "# show new shape\n",
    "deputes.shape"
   ]
  },
  {
   "cell_type": "code",
   "execution_count": 375,
   "metadata": {},
   "outputs": [
    {
     "data": {
      "text/plain": [
       "nom                                                   object\n",
       "nom_de_famille                                        object\n",
       "prenom                                                object\n",
       "sexe                                                  object\n",
       "date_naissance                                        object\n",
       "lieu_naissance                                        object\n",
       "num_deptmt                                            object\n",
       "nom_circo                                             object\n",
       "num_circo                                              int64\n",
       "mandat_debut                                          object\n",
       "ancien_depute                                          int64\n",
       "groupe_sigle                                          object\n",
       "parti_ratt_financier                                  object\n",
       "profession                                            object\n",
       "place_en_hemicycle                                     int64\n",
       "url_an                                                object\n",
       "id_an                                                  int64\n",
       "slug                                                  object\n",
       "url_nosdeputes                                        object\n",
       "url_nosdeputes_api                                    object\n",
       "nb_mandats                                             int64\n",
       "nb_mois                                                int64\n",
       "semaines_presence                                      int64\n",
       "semaines_presence_moyenne_mensuelle                  float64\n",
       "commission_presences                                   int64\n",
       "commission_presences_moyenne_mensuelle               float64\n",
       "commission_interventions                               int64\n",
       "commission_interventions_moyenne_mensuelle           float64\n",
       "hemicycle_interventions                                int64\n",
       "hemicycle_interventions_moyenne_mensuelle            float64\n",
       "hemicycle_interventions_courtes                        int64\n",
       "hemicycle_interventions_courtes_moyenne_mensuelle    float64\n",
       "amendements_proposes                                   int64\n",
       "amendements_proposes_moyenne_mensuelle               float64\n",
       "amendements_signes                                     int64\n",
       "amendements_signes_moyenne_mensuelle                 float64\n",
       "amendements_adoptes                                    int64\n",
       "amendements_adoptes_moyenne_mensuelle                float64\n",
       "rapports                                               int64\n",
       "rapports_moyenne_mensuelle                           float64\n",
       "propositions_ecrites                                   int64\n",
       "propositions_ecrites_moyenne_mensuelle               float64\n",
       "propositions_signees                                   int64\n",
       "propositions_signees_moyenne_mensuelle               float64\n",
       "questions_ecrites                                      int64\n",
       "questions_ecrites_moyenne_mensuelle                  float64\n",
       "questions_orales                                       int64\n",
       "questions_orales_moyenne_mensuelle                   float64\n",
       "dtype: object"
      ]
     },
     "execution_count": 375,
     "metadata": {},
     "output_type": "execute_result"
    }
   ],
   "source": [
    "deputes.dtypes"
   ]
  },
  {
   "cell_type": "code",
   "execution_count": 376,
   "metadata": {
    "collapsed": true
   },
   "outputs": [],
   "source": [
    "# Fixing data types\n",
    "deputes['date_naissance'] = pd.to_datetime(deputes['date_naissance'])"
   ]
  },
  {
   "cell_type": "code",
   "execution_count": 377,
   "metadata": {},
   "outputs": [
    {
     "data": {
      "text/html": [
       "<div>\n",
       "<table border=\"1\" class=\"dataframe\">\n",
       "  <thead>\n",
       "    <tr style=\"text-align: right;\">\n",
       "      <th></th>\n",
       "      <th>nom</th>\n",
       "      <th>nom_de_famille</th>\n",
       "      <th>prenom</th>\n",
       "      <th>sexe</th>\n",
       "      <th>date_naissance</th>\n",
       "      <th>lieu_naissance</th>\n",
       "      <th>num_deptmt</th>\n",
       "      <th>nom_circo</th>\n",
       "      <th>num_circo</th>\n",
       "      <th>mandat_debut</th>\n",
       "      <th>...</th>\n",
       "      <th>rapports_moyenne_mensuelle</th>\n",
       "      <th>propositions_ecrites</th>\n",
       "      <th>propositions_ecrites_moyenne_mensuelle</th>\n",
       "      <th>propositions_signees</th>\n",
       "      <th>propositions_signees_moyenne_mensuelle</th>\n",
       "      <th>questions_ecrites</th>\n",
       "      <th>questions_ecrites_moyenne_mensuelle</th>\n",
       "      <th>questions_orales</th>\n",
       "      <th>questions_orales_moyenne_mensuelle</th>\n",
       "      <th>age</th>\n",
       "    </tr>\n",
       "    <tr>\n",
       "      <th>id</th>\n",
       "      <th></th>\n",
       "      <th></th>\n",
       "      <th></th>\n",
       "      <th></th>\n",
       "      <th></th>\n",
       "      <th></th>\n",
       "      <th></th>\n",
       "      <th></th>\n",
       "      <th></th>\n",
       "      <th></th>\n",
       "      <th></th>\n",
       "      <th></th>\n",
       "      <th></th>\n",
       "      <th></th>\n",
       "      <th></th>\n",
       "      <th></th>\n",
       "      <th></th>\n",
       "      <th></th>\n",
       "      <th></th>\n",
       "      <th></th>\n",
       "      <th></th>\n",
       "    </tr>\n",
       "  </thead>\n",
       "  <tbody>\n",
       "    <tr>\n",
       "      <th>350</th>\n",
       "      <td>Damien Abad</td>\n",
       "      <td>Abad</td>\n",
       "      <td>Damien</td>\n",
       "      <td>H</td>\n",
       "      <td>1980-04-05</td>\n",
       "      <td>Nîmes (Gard)</td>\n",
       "      <td>01</td>\n",
       "      <td>Ain</td>\n",
       "      <td>5</td>\n",
       "      <td>2012-06-20</td>\n",
       "      <td>...</td>\n",
       "      <td>0.13</td>\n",
       "      <td>7</td>\n",
       "      <td>0.15</td>\n",
       "      <td>488</td>\n",
       "      <td>10.38</td>\n",
       "      <td>317</td>\n",
       "      <td>6.74</td>\n",
       "      <td>23</td>\n",
       "      <td>0.49</td>\n",
       "      <td>10</td>\n",
       "    </tr>\n",
       "    <tr>\n",
       "      <th>370</th>\n",
       "      <td>Laurence Abeille</td>\n",
       "      <td>Abeille</td>\n",
       "      <td>Laurence</td>\n",
       "      <td>F</td>\n",
       "      <td>1960-06-17</td>\n",
       "      <td>Neuilly-sur-Seine (Hauts-de-Seine)</td>\n",
       "      <td>94</td>\n",
       "      <td>Val-de-Marne</td>\n",
       "      <td>6</td>\n",
       "      <td>2012-06-20</td>\n",
       "      <td>...</td>\n",
       "      <td>0.06</td>\n",
       "      <td>7</td>\n",
       "      <td>0.15</td>\n",
       "      <td>58</td>\n",
       "      <td>1.23</td>\n",
       "      <td>192</td>\n",
       "      <td>4.09</td>\n",
       "      <td>20</td>\n",
       "      <td>0.43</td>\n",
       "      <td>10</td>\n",
       "    </tr>\n",
       "    <tr>\n",
       "      <th>557</th>\n",
       "      <td>Ibrahim Aboubacar</td>\n",
       "      <td>Aboubacar</td>\n",
       "      <td>Ibrahim</td>\n",
       "      <td>H</td>\n",
       "      <td>1965-02-01</td>\n",
       "      <td>Fomboni (Comores)</td>\n",
       "      <td>976</td>\n",
       "      <td>Mayotte</td>\n",
       "      <td>2</td>\n",
       "      <td>2012-06-20</td>\n",
       "      <td>...</td>\n",
       "      <td>0.06</td>\n",
       "      <td>0</td>\n",
       "      <td>0.00</td>\n",
       "      <td>65</td>\n",
       "      <td>1.38</td>\n",
       "      <td>1</td>\n",
       "      <td>0.02</td>\n",
       "      <td>10</td>\n",
       "      <td>0.21</td>\n",
       "      <td>10</td>\n",
       "    </tr>\n",
       "    <tr>\n",
       "      <th>604</th>\n",
       "      <td>Élie Aboud</td>\n",
       "      <td>Aboud</td>\n",
       "      <td>Élie</td>\n",
       "      <td>H</td>\n",
       "      <td>1959-10-12</td>\n",
       "      <td>Beyrouth (Liban)</td>\n",
       "      <td>34</td>\n",
       "      <td>Hérault</td>\n",
       "      <td>6</td>\n",
       "      <td>2012-12-17</td>\n",
       "      <td>...</td>\n",
       "      <td>0.00</td>\n",
       "      <td>10</td>\n",
       "      <td>0.24</td>\n",
       "      <td>261</td>\n",
       "      <td>6.21</td>\n",
       "      <td>415</td>\n",
       "      <td>9.88</td>\n",
       "      <td>14</td>\n",
       "      <td>0.33</td>\n",
       "      <td>10</td>\n",
       "    </tr>\n",
       "    <tr>\n",
       "      <th>173</th>\n",
       "      <td>Bernard Accoyer</td>\n",
       "      <td>Accoyer</td>\n",
       "      <td>Bernard</td>\n",
       "      <td>H</td>\n",
       "      <td>1945-08-12</td>\n",
       "      <td>Lyon (Rhône)</td>\n",
       "      <td>74</td>\n",
       "      <td>Haute-Savoie</td>\n",
       "      <td>1</td>\n",
       "      <td>2012-06-20</td>\n",
       "      <td>...</td>\n",
       "      <td>0.00</td>\n",
       "      <td>22</td>\n",
       "      <td>0.47</td>\n",
       "      <td>237</td>\n",
       "      <td>5.04</td>\n",
       "      <td>74</td>\n",
       "      <td>1.57</td>\n",
       "      <td>13</td>\n",
       "      <td>0.28</td>\n",
       "      <td>10</td>\n",
       "    </tr>\n",
       "  </tbody>\n",
       "</table>\n",
       "<p>5 rows × 49 columns</p>\n",
       "</div>"
      ],
      "text/plain": [
       "                   nom nom_de_famille    prenom sexe date_naissance  \\\n",
       "id                                                                    \n",
       "350        Damien Abad           Abad    Damien    H     1980-04-05   \n",
       "370   Laurence Abeille        Abeille  Laurence    F     1960-06-17   \n",
       "557  Ibrahim Aboubacar      Aboubacar   Ibrahim    H     1965-02-01   \n",
       "604         Élie Aboud          Aboud      Élie    H     1959-10-12   \n",
       "173    Bernard Accoyer        Accoyer   Bernard    H     1945-08-12   \n",
       "\n",
       "                         lieu_naissance num_deptmt     nom_circo  num_circo  \\\n",
       "id                                                                            \n",
       "350                        Nîmes (Gard)         01           Ain          5   \n",
       "370  Neuilly-sur-Seine (Hauts-de-Seine)         94  Val-de-Marne          6   \n",
       "557                   Fomboni (Comores)        976       Mayotte          2   \n",
       "604                    Beyrouth (Liban)         34       Hérault          6   \n",
       "173                        Lyon (Rhône)         74  Haute-Savoie          1   \n",
       "\n",
       "    mandat_debut ...  rapports_moyenne_mensuelle propositions_ecrites  \\\n",
       "id               ...                                                    \n",
       "350   2012-06-20 ...                        0.13                    7   \n",
       "370   2012-06-20 ...                        0.06                    7   \n",
       "557   2012-06-20 ...                        0.06                    0   \n",
       "604   2012-12-17 ...                        0.00                   10   \n",
       "173   2012-06-20 ...                        0.00                   22   \n",
       "\n",
       "    propositions_ecrites_moyenne_mensuelle propositions_signees  \\\n",
       "id                                                                \n",
       "350                                   0.15                  488   \n",
       "370                                   0.15                   58   \n",
       "557                                   0.00                   65   \n",
       "604                                   0.24                  261   \n",
       "173                                   0.47                  237   \n",
       "\n",
       "     propositions_signees_moyenne_mensuelle questions_ecrites  \\\n",
       "id                                                              \n",
       "350                                   10.38               317   \n",
       "370                                    1.23               192   \n",
       "557                                    1.38                 1   \n",
       "604                                    6.21               415   \n",
       "173                                    5.04                74   \n",
       "\n",
       "     questions_ecrites_moyenne_mensuelle questions_orales  \\\n",
       "id                                                          \n",
       "350                                 6.74               23   \n",
       "370                                 4.09               20   \n",
       "557                                 0.02               10   \n",
       "604                                 9.88               14   \n",
       "173                                 1.57               13   \n",
       "\n",
       "    questions_orales_moyenne_mensuelle age  \n",
       "id                                          \n",
       "350                               0.49  10  \n",
       "370                               0.43  10  \n",
       "557                               0.21  10  \n",
       "604                               0.33  10  \n",
       "173                               0.28  10  \n",
       "\n",
       "[5 rows x 49 columns]"
      ]
     },
     "execution_count": 377,
     "metadata": {},
     "output_type": "execute_result"
    }
   ],
   "source": [
    "# We want to add a new column with the age of the depute\n",
    "deputes[\"age\"] = 10\n",
    "deputes.head()"
   ]
  },
  {
   "cell_type": "code",
   "execution_count": 378,
   "metadata": {},
   "outputs": [
    {
     "data": {
      "text/html": [
       "<div>\n",
       "<table border=\"1\" class=\"dataframe\">\n",
       "  <thead>\n",
       "    <tr style=\"text-align: right;\">\n",
       "      <th></th>\n",
       "      <th>nom</th>\n",
       "      <th>nom_de_famille</th>\n",
       "      <th>prenom</th>\n",
       "      <th>sexe</th>\n",
       "      <th>lieu_naissance</th>\n",
       "      <th>num_deptmt</th>\n",
       "      <th>nom_circo</th>\n",
       "      <th>num_circo</th>\n",
       "      <th>mandat_debut</th>\n",
       "      <th>ancien_depute</th>\n",
       "      <th>...</th>\n",
       "      <th>rapports_moyenne_mensuelle</th>\n",
       "      <th>propositions_ecrites</th>\n",
       "      <th>propositions_ecrites_moyenne_mensuelle</th>\n",
       "      <th>propositions_signees</th>\n",
       "      <th>propositions_signees_moyenne_mensuelle</th>\n",
       "      <th>questions_ecrites</th>\n",
       "      <th>questions_ecrites_moyenne_mensuelle</th>\n",
       "      <th>questions_orales</th>\n",
       "      <th>questions_orales_moyenne_mensuelle</th>\n",
       "      <th>age</th>\n",
       "    </tr>\n",
       "    <tr>\n",
       "      <th>id</th>\n",
       "      <th></th>\n",
       "      <th></th>\n",
       "      <th></th>\n",
       "      <th></th>\n",
       "      <th></th>\n",
       "      <th></th>\n",
       "      <th></th>\n",
       "      <th></th>\n",
       "      <th></th>\n",
       "      <th></th>\n",
       "      <th></th>\n",
       "      <th></th>\n",
       "      <th></th>\n",
       "      <th></th>\n",
       "      <th></th>\n",
       "      <th></th>\n",
       "      <th></th>\n",
       "      <th></th>\n",
       "      <th></th>\n",
       "      <th></th>\n",
       "      <th></th>\n",
       "    </tr>\n",
       "  </thead>\n",
       "  <tbody>\n",
       "    <tr>\n",
       "      <th>350</th>\n",
       "      <td>Damien Abad</td>\n",
       "      <td>Abad</td>\n",
       "      <td>Damien</td>\n",
       "      <td>0</td>\n",
       "      <td>Nîmes (Gard)</td>\n",
       "      <td>01</td>\n",
       "      <td>Ain</td>\n",
       "      <td>5</td>\n",
       "      <td>2012-06-20</td>\n",
       "      <td>0</td>\n",
       "      <td>...</td>\n",
       "      <td>0.13</td>\n",
       "      <td>7</td>\n",
       "      <td>0.15</td>\n",
       "      <td>488</td>\n",
       "      <td>10.38</td>\n",
       "      <td>317</td>\n",
       "      <td>6.74</td>\n",
       "      <td>23</td>\n",
       "      <td>0.49</td>\n",
       "      <td>37</td>\n",
       "    </tr>\n",
       "    <tr>\n",
       "      <th>370</th>\n",
       "      <td>Laurence Abeille</td>\n",
       "      <td>Abeille</td>\n",
       "      <td>Laurence</td>\n",
       "      <td>1</td>\n",
       "      <td>Neuilly-sur-Seine (Hauts-de-Seine)</td>\n",
       "      <td>94</td>\n",
       "      <td>Val-de-Marne</td>\n",
       "      <td>6</td>\n",
       "      <td>2012-06-20</td>\n",
       "      <td>0</td>\n",
       "      <td>...</td>\n",
       "      <td>0.06</td>\n",
       "      <td>7</td>\n",
       "      <td>0.15</td>\n",
       "      <td>58</td>\n",
       "      <td>1.23</td>\n",
       "      <td>192</td>\n",
       "      <td>4.09</td>\n",
       "      <td>20</td>\n",
       "      <td>0.43</td>\n",
       "      <td>57</td>\n",
       "    </tr>\n",
       "    <tr>\n",
       "      <th>557</th>\n",
       "      <td>Ibrahim Aboubacar</td>\n",
       "      <td>Aboubacar</td>\n",
       "      <td>Ibrahim</td>\n",
       "      <td>0</td>\n",
       "      <td>Fomboni (Comores)</td>\n",
       "      <td>976</td>\n",
       "      <td>Mayotte</td>\n",
       "      <td>2</td>\n",
       "      <td>2012-06-20</td>\n",
       "      <td>0</td>\n",
       "      <td>...</td>\n",
       "      <td>0.06</td>\n",
       "      <td>0</td>\n",
       "      <td>0.00</td>\n",
       "      <td>65</td>\n",
       "      <td>1.38</td>\n",
       "      <td>1</td>\n",
       "      <td>0.02</td>\n",
       "      <td>10</td>\n",
       "      <td>0.21</td>\n",
       "      <td>52</td>\n",
       "    </tr>\n",
       "    <tr>\n",
       "      <th>604</th>\n",
       "      <td>Élie Aboud</td>\n",
       "      <td>Aboud</td>\n",
       "      <td>Élie</td>\n",
       "      <td>0</td>\n",
       "      <td>Beyrouth (Liban)</td>\n",
       "      <td>34</td>\n",
       "      <td>Hérault</td>\n",
       "      <td>6</td>\n",
       "      <td>2012-12-17</td>\n",
       "      <td>0</td>\n",
       "      <td>...</td>\n",
       "      <td>0.00</td>\n",
       "      <td>10</td>\n",
       "      <td>0.24</td>\n",
       "      <td>261</td>\n",
       "      <td>6.21</td>\n",
       "      <td>415</td>\n",
       "      <td>9.88</td>\n",
       "      <td>14</td>\n",
       "      <td>0.33</td>\n",
       "      <td>57</td>\n",
       "    </tr>\n",
       "    <tr>\n",
       "      <th>173</th>\n",
       "      <td>Bernard Accoyer</td>\n",
       "      <td>Accoyer</td>\n",
       "      <td>Bernard</td>\n",
       "      <td>0</td>\n",
       "      <td>Lyon (Rhône)</td>\n",
       "      <td>74</td>\n",
       "      <td>Haute-Savoie</td>\n",
       "      <td>1</td>\n",
       "      <td>2012-06-20</td>\n",
       "      <td>0</td>\n",
       "      <td>...</td>\n",
       "      <td>0.00</td>\n",
       "      <td>22</td>\n",
       "      <td>0.47</td>\n",
       "      <td>237</td>\n",
       "      <td>5.04</td>\n",
       "      <td>74</td>\n",
       "      <td>1.57</td>\n",
       "      <td>13</td>\n",
       "      <td>0.28</td>\n",
       "      <td>71</td>\n",
       "    </tr>\n",
       "  </tbody>\n",
       "</table>\n",
       "<p>5 rows × 48 columns</p>\n",
       "</div>"
      ],
      "text/plain": [
       "                   nom nom_de_famille    prenom  sexe  \\\n",
       "id                                                      \n",
       "350        Damien Abad           Abad    Damien     0   \n",
       "370   Laurence Abeille        Abeille  Laurence     1   \n",
       "557  Ibrahim Aboubacar      Aboubacar   Ibrahim     0   \n",
       "604         Élie Aboud          Aboud      Élie     0   \n",
       "173    Bernard Accoyer        Accoyer   Bernard     0   \n",
       "\n",
       "                         lieu_naissance num_deptmt     nom_circo  num_circo  \\\n",
       "id                                                                            \n",
       "350                        Nîmes (Gard)         01           Ain          5   \n",
       "370  Neuilly-sur-Seine (Hauts-de-Seine)         94  Val-de-Marne          6   \n",
       "557                   Fomboni (Comores)        976       Mayotte          2   \n",
       "604                    Beyrouth (Liban)         34       Hérault          6   \n",
       "173                        Lyon (Rhône)         74  Haute-Savoie          1   \n",
       "\n",
       "    mandat_debut  ancien_depute ...  rapports_moyenne_mensuelle  \\\n",
       "id                              ...                               \n",
       "350   2012-06-20              0 ...                        0.13   \n",
       "370   2012-06-20              0 ...                        0.06   \n",
       "557   2012-06-20              0 ...                        0.06   \n",
       "604   2012-12-17              0 ...                        0.00   \n",
       "173   2012-06-20              0 ...                        0.00   \n",
       "\n",
       "    propositions_ecrites propositions_ecrites_moyenne_mensuelle  \\\n",
       "id                                                                \n",
       "350                    7                                   0.15   \n",
       "370                    7                                   0.15   \n",
       "557                    0                                   0.00   \n",
       "604                   10                                   0.24   \n",
       "173                   22                                   0.47   \n",
       "\n",
       "     propositions_signees propositions_signees_moyenne_mensuelle  \\\n",
       "id                                                                 \n",
       "350                   488                                  10.38   \n",
       "370                    58                                   1.23   \n",
       "557                    65                                   1.38   \n",
       "604                   261                                   6.21   \n",
       "173                   237                                   5.04   \n",
       "\n",
       "     questions_ecrites questions_ecrites_moyenne_mensuelle questions_orales  \\\n",
       "id                                                                            \n",
       "350                317                                6.74               23   \n",
       "370                192                                4.09               20   \n",
       "557                  1                                0.02               10   \n",
       "604                415                                9.88               14   \n",
       "173                 74                                1.57               13   \n",
       "\n",
       "    questions_orales_moyenne_mensuelle  age  \n",
       "id                                           \n",
       "350                               0.49   37  \n",
       "370                               0.43   57  \n",
       "557                               0.21   52  \n",
       "604                               0.33   57  \n",
       "173                               0.28   71  \n",
       "\n",
       "[5 rows x 48 columns]"
      ]
     },
     "execution_count": 378,
     "metadata": {},
     "output_type": "execute_result"
    }
   ],
   "source": [
    "import datetime\n",
    "def guess_age(birth_date):\n",
    "    today = datetime.datetime.today()\n",
    "    return (today-birth_date).days//365\n",
    "\n",
    "def sex_to_number(sex):\n",
    "    if sex == 'H':\n",
    "        return 0\n",
    "    return 1\n",
    "deputes[\"age\"] = deputes[\"date_naissance\"].apply(guess_age)\n",
    "deputes['sexe']=deputes[\"sexe\"].apply(sex_to_number)\n",
    "deputes.drop(['date_naissance'],axis=1,inplace=True)\n",
    "deputes.head()"
   ]
  },
  {
   "cell_type": "markdown",
   "metadata": {},
   "source": [
    "# Data exploration\n",
    "\n",
    "A [good tutorial](http://pandas.pydata.org/pandas-docs/stable/10min.html) to start learning pandas. "
   ]
  },
  {
   "cell_type": "markdown",
   "metadata": {},
   "source": [
    "## Selecting data"
   ]
  },
  {
   "cell_type": "code",
   "execution_count": 379,
   "metadata": {},
   "outputs": [
    {
     "data": {
      "text/html": [
       "<div>\n",
       "<table border=\"1\" class=\"dataframe\">\n",
       "  <thead>\n",
       "    <tr style=\"text-align: right;\">\n",
       "      <th></th>\n",
       "      <th>nom</th>\n",
       "      <th>age</th>\n",
       "    </tr>\n",
       "    <tr>\n",
       "      <th>id</th>\n",
       "      <th></th>\n",
       "      <th></th>\n",
       "    </tr>\n",
       "  </thead>\n",
       "  <tbody>\n",
       "    <tr>\n",
       "      <th>350</th>\n",
       "      <td>Damien Abad</td>\n",
       "      <td>37</td>\n",
       "    </tr>\n",
       "    <tr>\n",
       "      <th>370</th>\n",
       "      <td>Laurence Abeille</td>\n",
       "      <td>57</td>\n",
       "    </tr>\n",
       "    <tr>\n",
       "      <th>557</th>\n",
       "      <td>Ibrahim Aboubacar</td>\n",
       "      <td>52</td>\n",
       "    </tr>\n",
       "  </tbody>\n",
       "</table>\n",
       "</div>"
      ],
      "text/plain": [
       "                   nom  age\n",
       "id                         \n",
       "350        Damien Abad   37\n",
       "370   Laurence Abeille   57\n",
       "557  Ibrahim Aboubacar   52"
      ]
     },
     "execution_count": 379,
     "metadata": {},
     "output_type": "execute_result"
    }
   ],
   "source": [
    "# Nom des quatres premiers députes\n",
    "deputes[[\"nom\", \"age\"]][0:3]"
   ]
  },
  {
   "cell_type": "markdown",
   "metadata": {},
   "source": [
    "## Filtering the data"
   ]
  },
  {
   "cell_type": "code",
   "execution_count": null,
   "metadata": {},
   "outputs": [],
   "source": [
    "deputes_qui_proposent = deputes[deputes.propositions_ecrites > 10]\n",
    "deputes_qui_proposent[[\"nom\",\"propositions_ecrites\"]].head()"
   ]
  },
  {
   "cell_type": "code",
   "execution_count": null,
   "metadata": {},
   "outputs": [],
   "source": [
    "deputes_qui_proposent = deputes[(deputes.propositions_ecrites > 10) & (deputes.nom_circo == \"Val-de-Marne\")]\n",
    "deputes_qui_proposent[[\"nom\",\"propositions_ecrites\", \"nom_circo\"]].head()"
   ]
  },
  {
   "cell_type": "markdown",
   "metadata": {},
   "source": [
    "## Split-apply-combine"
   ]
  },
  {
   "cell_type": "code",
   "execution_count": null,
   "metadata": {},
   "outputs": [],
   "source": [
    "deputes_partis = deputes.groupby('groupe_sigle')\n",
    "average_presence = deputes_partis['semaines_presence_moyenne_mensuelle'].mean()\n",
    "average_presence"
   ]
  },
  {
   "cell_type": "code",
   "execution_count": null,
   "metadata": {},
   "outputs": [],
   "source": [
    "# Parité au sein de l'assemblée  ?\n",
    "deputes['sexe'].value_counts()"
   ]
  },
  {
   "cell_type": "code",
   "execution_count": null,
   "metadata": {},
   "outputs": [],
   "source": [
    "# Décrire rapidement l'assiduité des députes\n",
    "deputes['semaines_presence_moyenne_mensuelle'].describe()"
   ]
  },
  {
   "cell_type": "code",
   "execution_count": null,
   "metadata": {},
   "outputs": [],
   "source": [
    "# Trouver le député le plus assidu \n",
    "deputes[deputes['semaines_presence_moyenne_mensuelle'] == deputes['semaines_presence_moyenne_mensuelle'].max()]"
   ]
  },
  {
   "cell_type": "code",
   "execution_count": null,
   "metadata": {},
   "outputs": [],
   "source": [
    "# Nombre max de mandats\n",
    "deputes['nb_mandats'].max()"
   ]
  },
  {
   "cell_type": "code",
   "execution_count": null,
   "metadata": {},
   "outputs": [],
   "source": [
    "# Distribution des âges\n",
    "sns.distplot(deputes['age'], bins=10)"
   ]
  },
  {
   "cell_type": "code",
   "execution_count": null,
   "metadata": {},
   "outputs": [],
   "source": [
    "# 10 professions les plus représentées\n",
    "deputes['profession'].value_counts()[:10]\n"
   ]
  },
  {
   "cell_type": "code",
   "execution_count": null,
   "metadata": {},
   "outputs": [],
   "source": [
    "# Taux de présence par département\n",
    "deputes_deptmt = deputes.groupby('num_deptmt')['semaines_presence_moyenne_mensuelle'].mean()\n",
    "deputes_deptmt.sort_values(inplace=True)\n",
    "deputes_deptmt"
   ]
  },
  {
   "cell_type": "markdown",
   "metadata": {},
   "source": [
    "# Data visualisation\n",
    "An [awesome catalogue](http://www.datavizcatalogue.com/) of different kind of dataviz."
   ]
  },
  {
   "cell_type": "code",
   "execution_count": null,
   "metadata": {},
   "outputs": [],
   "source": [
    "# Taux de présence par Parti\n",
    "# https://fr.wikipedia.org/wiki/Liste_des_partis_et_mouvements_politiques_fran%C3%A7ais\n",
    "plt.figure(figsize=(15,10))\n",
    "deputes_parti = deputes.groupby('groupe_sigle')['semaines_presence_moyenne_mensuelle'].mean()\n",
    "deputes_parti.sort_values(inplace=True, ascending=0)\n",
    "deputes_parti\n",
    "sns.swarmplot(x=\"groupe_sigle\", y=\"semaines_presence\", data=deputes,palette='Set1',size=8)\n"
   ]
  },
  {
   "cell_type": "code",
   "execution_count": null,
   "metadata": {},
   "outputs": [],
   "source": [
    "# Découvrir des corrélations\n",
    "tc = deputes.corr()\n",
    "plt.figure(figsize=(15,10))\n",
    "sns.heatmap(tc, linecolor='white', linewidths=1)"
   ]
  },
  {
   "cell_type": "code",
   "execution_count": null,
   "metadata": {},
   "outputs": [],
   "source": [
    "plt.figure(figsize=(15,10))\n",
    "sns.swarmplot(x=\"groupe_sigle\", y=\"place_en_hemicycle\", data=deputes)"
   ]
  },
  {
   "cell_type": "markdown",
   "metadata": {
    "collapsed": true
   },
   "source": [
    "# Can we guess someone's party from his hemicycle position ?\n",
    "Which [algorithm](http://scikit-learn.org/stable/tutorial/machine_learning_map/) should I use ? "
   ]
  },
  {
   "cell_type": "code",
   "execution_count": null,
   "metadata": {
    "collapsed": true
   },
   "outputs": [],
   "source": [
    "# split the dataset for training and testing\n",
    "from sklearn.model_selection import train_test_split\n",
    "X = deputes[['place_en_hemicycle']]\n",
    "y = deputes['groupe_sigle']\n",
    "X_train, X_test, y_train, y_test = train_test_split(X, y,test_size=0.25)"
   ]
  },
  {
   "cell_type": "code",
   "execution_count": null,
   "metadata": {},
   "outputs": [],
   "source": [
    "# Train\n",
    "from sklearn.svm import SVC\n",
    "svc_model = SVC()\n",
    "svc_model.fit(X_train,y_train)"
   ]
  },
  {
   "cell_type": "code",
   "execution_count": null,
   "metadata": {
    "collapsed": true
   },
   "outputs": [],
   "source": [
    "# predict\n",
    "predictions = svc_model.predict(X_test)"
   ]
  },
  {
   "cell_type": "code",
   "execution_count": null,
   "metadata": {},
   "outputs": [],
   "source": [
    "# Compare\n",
    "from sklearn.metrics import classification_report,confusion_matrix\n",
    "print(confusion_matrix(y_test,predictions))"
   ]
  },
  {
   "cell_type": "code",
   "execution_count": null,
   "metadata": {},
   "outputs": [],
   "source": [
    "print(classification_report(y_test,predictions))"
   ]
  },
  {
   "cell_type": "markdown",
   "metadata": {},
   "source": [
    "**The precision ** is the ratio tp / (tp + fp) where tp is the number of true positives and fp the number of false positives. The precision is intuitively the ability of the classifier not to label as positive a sample that is negative.\n",
    "\n",
    "\n",
    "**The recall** is the ratio tp / (tp + fn) where tp is the number of true positives and fn the number of false negatives. The recall is intuitively the ability of the classifier to find all the positive samples.\n"
   ]
  },
  {
   "cell_type": "code",
   "execution_count": null,
   "metadata": {
    "collapsed": true
   },
   "outputs": [],
   "source": []
  }
 ],
 "metadata": {
  "celltoolbar": "Slideshow",
  "kernelspec": {
   "display_name": "Python 3",
   "language": "python",
   "name": "python3"
  },
  "language_info": {
   "codemirror_mode": {
    "name": "ipython",
    "version": 3
   },
   "file_extension": ".py",
   "mimetype": "text/x-python",
   "name": "python",
   "nbconvert_exporter": "python",
   "pygments_lexer": "ipython3",
   "version": "3.5.1"
  }
 },
 "nbformat": 4,
 "nbformat_minor": 2
}
